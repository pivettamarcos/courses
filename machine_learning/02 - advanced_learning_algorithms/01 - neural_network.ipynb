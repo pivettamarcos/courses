{
 "cells": [
  {
   "cell_type": "markdown",
   "metadata": {},
   "source": [
    "# Advanced Learning Algorithms"
   ]
  },
  {
   "cell_type": "markdown",
   "metadata": {},
   "source": [
    "## Pyspark config ([tsops/courses_spark_integration](https://github.com/pivettamarcos/tsops/tree/feature/courses_spark_integration))"
   ]
  },
  {
   "cell_type": "markdown",
   "metadata": {},
   "source": [
    "import os\n",
    "from pyspark.sql import SparkSession\n",
    "\n",
    "spark = (\n",
    "    SparkSession.builder.appName(\"JupyterApp\")\n",
    "    .master(\"k8s://https://kubernetes.default.svc.cluster.local:443\")\n",
    "    .config(\"spark.submit.deployMode\", \"cluster\")\n",
    "    .config(\"spark.executor.instances\", \"1\")\n",
    "    .config(\"spark.executor.memory\", \"1G\")\n",
    "    .config(\"spark.driver.memory\", \"1G\")\n",
    "    .config(\"spark.executor.cores\", \"1\")\n",
    "    .config(\"spark.kubernetes.namespace\", \"tsops-dev\")\n",
    "    .config(\n",
    "        \"spark.kubernetes.container.image\", \"itayb/jupyter-notebook:6.2.0-spark-3.1.1-java-11-hadoop-3.2.0\"\n",
    "    )\n",
    "    .config(\"spark.kubernetes.authenticate.driver.serviceAccountName\", \"my-release-spark\")\n",
    "    .config(\"spark.kubernetes.driver.pod.name\", os.environ[\"HOSTNAME\"])\n",
    "    .config(\"spark.driver.bindAddress\", \"0.0.0.0\")\n",
    "    .config(\"spark.driver.host\", \"jupyter-headless.tsops-dev.svc.cluster.local\")\n",
    "    .getOrCreate()\n",
    ")\n"
   ]
  }
 ],
 "metadata": {
  "language_info": {
   "name": "python"
  }
 },
 "nbformat": 4,
 "nbformat_minor": 2
}
