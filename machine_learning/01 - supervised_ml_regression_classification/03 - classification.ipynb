{
 "cells": [
  {
   "cell_type": "markdown",
   "metadata": {},
   "source": [
    "# Supervised Machine Learning: Regression and Classification"
   ]
  },
  {
   "cell_type": "code",
   "execution_count": 19,
   "metadata": {},
   "outputs": [],
   "source": [
    "import sys\n",
    "sys.path.insert(0, './work/machine_learning/01 - supervised_ml_regression_classification')\n",
    "\n",
    "import matplotlib.pyplot as plt\n",
    "\n",
    "from pyspark.sql import SparkSession\n",
    "from pyspark.sql.functions import regexp_replace, unix_timestamp, col, regexp_replace\n",
    "from pyspark.ml.evaluation import MulticlassClassificationEvaluator\n",
    "from pyspark.ml.feature import VectorAssembler\n",
    "from pyspark.ml.classification import LogisticRegression\n",
    "from pyspark.ml.stat import Correlation\n",
    "import pyspark.pandas as ps\n",
    "from pyspark.ml.feature import MinMaxScaler\n",
    "from pyspark.ml import Pipeline\n",
    "\n",
    "import numpy as np\n",
    "import math"
   ]
  },
  {
   "cell_type": "markdown",
   "metadata": {},
   "source": [
    "## Pyspark config"
   ]
  },
  {
   "cell_type": "code",
   "execution_count": 3,
   "metadata": {},
   "outputs": [],
   "source": [
    "# SPAWN A SPARKSESSION\n",
    "spark = SparkSession.\\\n",
    "        builder.\\\n",
    "        appName(\"pyspark-notebook\").\\\n",
    "        master(\"spark://spark-master:7077\").\\\n",
    "        config(\"spark.executor.cores\", \"12\").\\\n",
    "        config(\"spark.executor.memory\", \"1024mb\").\\\n",
    "        getOrCreate()"
   ]
  },
  {
   "cell_type": "code",
   "execution_count": 104,
   "metadata": {},
   "outputs": [
    {
     "data": {
      "text/html": [
       "<div>\n",
       "<style scoped>\n",
       "    .dataframe tbody tr th:only-of-type {\n",
       "        vertical-align: middle;\n",
       "    }\n",
       "\n",
       "    .dataframe tbody tr th {\n",
       "        vertical-align: top;\n",
       "    }\n",
       "\n",
       "    .dataframe thead th {\n",
       "        text-align: right;\n",
       "    }\n",
       "</style>\n",
       "<table border=\"1\" class=\"dataframe\">\n",
       "  <thead>\n",
       "    <tr style=\"text-align: right;\">\n",
       "      <th></th>\n",
       "      <th>age</th>\n",
       "      <th>height</th>\n",
       "      <th>weight</th>\n",
       "      <th>ap_hi</th>\n",
       "      <th>ap_lo</th>\n",
       "      <th>cholesterol</th>\n",
       "      <th>gender_1</th>\n",
       "      <th>gender_2</th>\n",
       "      <th>smoke_0</th>\n",
       "      <th>smoke_1</th>\n",
       "    </tr>\n",
       "    <tr>\n",
       "      <th>id</th>\n",
       "      <th></th>\n",
       "      <th></th>\n",
       "      <th></th>\n",
       "      <th></th>\n",
       "      <th></th>\n",
       "      <th></th>\n",
       "      <th></th>\n",
       "      <th></th>\n",
       "      <th></th>\n",
       "      <th></th>\n",
       "    </tr>\n",
       "  </thead>\n",
       "  <tbody>\n",
       "    <tr>\n",
       "      <th>0</th>\n",
       "      <td>18393</td>\n",
       "      <td>168</td>\n",
       "      <td>62</td>\n",
       "      <td>110</td>\n",
       "      <td>80</td>\n",
       "      <td>1</td>\n",
       "      <td>0</td>\n",
       "      <td>1</td>\n",
       "      <td>1</td>\n",
       "      <td>0</td>\n",
       "    </tr>\n",
       "    <tr>\n",
       "      <th>1</th>\n",
       "      <td>20228</td>\n",
       "      <td>156</td>\n",
       "      <td>85</td>\n",
       "      <td>140</td>\n",
       "      <td>90</td>\n",
       "      <td>3</td>\n",
       "      <td>1</td>\n",
       "      <td>0</td>\n",
       "      <td>1</td>\n",
       "      <td>0</td>\n",
       "    </tr>\n",
       "    <tr>\n",
       "      <th>2</th>\n",
       "      <td>18857</td>\n",
       "      <td>165</td>\n",
       "      <td>64</td>\n",
       "      <td>130</td>\n",
       "      <td>70</td>\n",
       "      <td>3</td>\n",
       "      <td>1</td>\n",
       "      <td>0</td>\n",
       "      <td>1</td>\n",
       "      <td>0</td>\n",
       "    </tr>\n",
       "    <tr>\n",
       "      <th>3</th>\n",
       "      <td>17623</td>\n",
       "      <td>169</td>\n",
       "      <td>82</td>\n",
       "      <td>150</td>\n",
       "      <td>100</td>\n",
       "      <td>1</td>\n",
       "      <td>0</td>\n",
       "      <td>1</td>\n",
       "      <td>1</td>\n",
       "      <td>0</td>\n",
       "    </tr>\n",
       "    <tr>\n",
       "      <th>4</th>\n",
       "      <td>17474</td>\n",
       "      <td>156</td>\n",
       "      <td>56</td>\n",
       "      <td>100</td>\n",
       "      <td>60</td>\n",
       "      <td>1</td>\n",
       "      <td>1</td>\n",
       "      <td>0</td>\n",
       "      <td>1</td>\n",
       "      <td>0</td>\n",
       "    </tr>\n",
       "    <tr>\n",
       "      <th>8</th>\n",
       "      <td>21914</td>\n",
       "      <td>151</td>\n",
       "      <td>67</td>\n",
       "      <td>120</td>\n",
       "      <td>80</td>\n",
       "      <td>2</td>\n",
       "      <td>1</td>\n",
       "      <td>0</td>\n",
       "      <td>1</td>\n",
       "      <td>0</td>\n",
       "    </tr>\n",
       "    <tr>\n",
       "      <th>9</th>\n",
       "      <td>22113</td>\n",
       "      <td>157</td>\n",
       "      <td>93</td>\n",
       "      <td>130</td>\n",
       "      <td>80</td>\n",
       "      <td>3</td>\n",
       "      <td>1</td>\n",
       "      <td>0</td>\n",
       "      <td>1</td>\n",
       "      <td>0</td>\n",
       "    </tr>\n",
       "    <tr>\n",
       "      <th>12</th>\n",
       "      <td>22584</td>\n",
       "      <td>178</td>\n",
       "      <td>95</td>\n",
       "      <td>130</td>\n",
       "      <td>90</td>\n",
       "      <td>3</td>\n",
       "      <td>0</td>\n",
       "      <td>1</td>\n",
       "      <td>1</td>\n",
       "      <td>0</td>\n",
       "    </tr>\n",
       "    <tr>\n",
       "      <th>13</th>\n",
       "      <td>17668</td>\n",
       "      <td>158</td>\n",
       "      <td>71</td>\n",
       "      <td>110</td>\n",
       "      <td>70</td>\n",
       "      <td>1</td>\n",
       "      <td>1</td>\n",
       "      <td>0</td>\n",
       "      <td>1</td>\n",
       "      <td>0</td>\n",
       "    </tr>\n",
       "    <tr>\n",
       "      <th>14</th>\n",
       "      <td>19834</td>\n",
       "      <td>164</td>\n",
       "      <td>68</td>\n",
       "      <td>110</td>\n",
       "      <td>60</td>\n",
       "      <td>1</td>\n",
       "      <td>1</td>\n",
       "      <td>0</td>\n",
       "      <td>1</td>\n",
       "      <td>0</td>\n",
       "    </tr>\n",
       "  </tbody>\n",
       "</table>\n",
       "</div>"
      ],
      "text/plain": [
       "      age  height  weight  ap_hi  ap_lo  cholesterol  gender_1  gender_2  smoke_0  smoke_1\n",
       "id                                                                                        \n",
       "0   18393     168      62    110     80            1         0         1        1        0\n",
       "1   20228     156      85    140     90            3         1         0        1        0\n",
       "2   18857     165      64    130     70            3         1         0        1        0\n",
       "3   17623     169      82    150    100            1         0         1        1        0\n",
       "4   17474     156      56    100     60            1         1         0        1        0\n",
       "8   21914     151      67    120     80            2         1         0        1        0\n",
       "9   22113     157      93    130     80            3         1         0        1        0\n",
       "12  22584     178      95    130     90            3         0         1        1        0\n",
       "13  17668     158      71    110     70            1         1         0        1        0\n",
       "14  19834     164      68    110     60            1         1         0        1        0"
      ]
     },
     "execution_count": 104,
     "metadata": {},
     "output_type": "execute_result"
    }
   ],
   "source": [
    "# Read dataset for this course and cache() it\n",
    "\n",
    "df = ps.read_csv(\"hdfs://namenode:9000/data/cardio_base.csv\", index_col=\"id\")\n",
    "df = df.astype(int)\n",
    "\n",
    "df = ps.get_dummies(df, columns=['gender', 'smoke'], dtype='int', )\n",
    "\n",
    "df = df.loc[df['ap_hi'] < 500]\n",
    "\n",
    "# Why cache dataframe?\n",
    "# Reusing Data: Caching is optimal when you need to perform multiple operations on the same dataset to \n",
    "#    avoid reading from storage repeatedly.\n",
    "# Frequent Subset Access: Useful for frequently accessing small subsets of a large dataset, reducing the \n",
    "#    need to load the entire dataset repeatedly.\n",
    "df_cached = df.spark.cache()\n",
    "\n",
    "df_cached.head(10)"
   ]
  },
  {
   "cell_type": "markdown",
   "metadata": {},
   "source": [
    "## Week 2"
   ]
  },
  {
   "cell_type": "markdown",
   "metadata": {},
   "source": [
    "### Logistic Regression"
   ]
  },
  {
   "cell_type": "markdown",
   "metadata": {},
   "source": [
    "$\n",
    "\\text{Repeat until convergence } \\{ \n",
    "\\\\\n",
    "w_j = w_j - \\alpha \\frac{1}{m} \\sum_{i=0}^{m-1} ((f_{\\vec{w},b}(x^{(i)}) - y^{(i)}) \\cdot x_j^{(i)})\n",
    "\\\\\n",
    " b := b - \\alpha \\frac{1}{m} \\sum\\limits_{i=0}^{m-1} (f_{\\vec{w},b}(x^{(i)}) - y^{(i)}) \n",
    "\\\\\n",
    "\\}\n",
    "$\n",
    "\n"
   ]
  },
  {
   "cell_type": "markdown",
   "metadata": {},
   "source": [
    "##### Implementation of Multiple Linear Regression w/ MinMaxScaling in Spark using pyspark.pandas API"
   ]
  },
  {
   "cell_type": "code",
   "execution_count": 148,
   "metadata": {},
   "outputs": [
    {
     "name": "stderr",
     "output_type": "stream",
     "text": [
      "/usr/local/spark/python/pyspark/pandas/utils.py:1016: PandasAPIOnSparkAdviceWarning: If `index_col` is not specified for `to_spark`, the existing index is lost when converting to Spark DataFrame.\n",
      "  warnings.warn(message, PandasAPIOnSparkAdviceWarning)\n"
     ]
    }
   ],
   "source": [
    "# LINEAR REGRESSION AGE IN DAYS AND WEIGHT TO PREDICT SYSTOLIC BLOOD PRESSURE\n",
    "from pyspark.ml.regression import LinearRegression\n",
    "from pyspark.ml.feature import VectorAssembler\n",
    "from pyspark.ml.evaluation import RegressionEvaluator\n",
    "\n",
    "sampled_df = df_cached.sample(frac=0.9)\n",
    "\n",
    "# Convert pandas dataframe to Spark dataframe\n",
    "spark_df = sampled_df.to_spark()\n",
    "\n",
    "# Split the data into a training and test set\n",
    "train_ratio = 0.8\n",
    "test_ratio = 1 - train_ratio\n",
    "\n",
    "train_df, test_df = spark_df.randomSplit([train_ratio, test_ratio], seed=42)"
   ]
  },
  {
   "cell_type": "code",
   "execution_count": 150,
   "metadata": {},
   "outputs": [
    {
     "name": "stdout",
     "output_type": "stream",
     "text": [
      "+-----+------+------+-----+-----+-----------+--------+--------+-------+-------+----------+--------------------+--------------------+\n",
      "|  age|height|weight|ap_hi|ap_lo|cholesterol|gender_1|gender_2|smoke_0|smoke_1|height_vec|       height_scaled|            features|\n",
      "+-----+------+------+-----+-----+-----------+--------+--------+-------+-------+----------+--------------------+--------------------+\n",
      "|10798|   175|    92|  100|   60|          1|       0|       1|      1|      0|   [175.0]|[0.6153846153846154]|[0.6153846153846154]|\n",
      "|10859|   159|    59|  120|   80|          1|       1|       0|      1|      0|   [159.0]|[0.5333333333333333]|[0.5333333333333333]|\n",
      "|10964|   160|    59|  110|   70|          1|       1|       0|      1|      0|   [160.0]|[0.5384615384615384]|[0.5384615384615384]|\n",
      "|14275|   164|   105|  150|  110|          3|       1|       0|      1|      0|   [164.0]| [0.558974358974359]| [0.558974358974359]|\n",
      "|14277|   168|   109|  150|  100|          1|       0|       1|      1|      0|   [168.0]|[0.5794871794871795]|[0.5794871794871795]|\n",
      "|14284|   156|    70|  100|   80|          3|       1|       0|      1|      0|   [156.0]| [0.517948717948718]| [0.517948717948718]|\n",
      "|14291|   164|    77|  110|   70|          1|       1|       0|      1|      0|   [164.0]| [0.558974358974359]| [0.558974358974359]|\n",
      "|14291|   167|    53|  110|   70|          1|       1|       0|      1|      0|   [167.0]|[0.5743589743589743]|[0.5743589743589743]|\n",
      "|14291|   170|    67|  120|   80|          1|       0|       1|      1|      0|   [170.0]|[0.5897435897435898]|[0.5897435897435898]|\n",
      "|14292|   159|    60|  100|   70|          2|       0|       1|      0|      1|   [159.0]|[0.5333333333333333]|[0.5333333333333333]|\n",
      "+-----+------+------+-----+-----+-----------+--------+--------+-------+-------+----------+--------------------+--------------------+\n",
      "only showing top 10 rows\n",
      "\n"
     ]
    }
   ],
   "source": [
    "\n",
    "# Create the scaler object\n",
    "columns_to_scale = [\"height\"]\n",
    "assemblers = [VectorAssembler(inputCols=[col], outputCol=col + \"_vec\") for col in columns_to_scale]\n",
    "scalers = [MinMaxScaler(inputCol=col + \"_vec\", outputCol=col + \"_scaled\") for col in columns_to_scale]\n",
    "pipeline = Pipeline(stages=assemblers + scalers)\n",
    "scalers_model = pipeline.fit(train_df)\n",
    "scaled_train_df = scalers_model.transform(train_df)\n",
    "scaled_test_df = scalers_model.transform(test_df)\n",
    "\n",
    "assembler = VectorAssembler(inputCols=[\"height_scaled\"], outputCol=\"features\")\n",
    "assembled_scaled_train_df = assembler.transform(scaled_train_df)\n",
    "assembled_scaled_test_df = assembler.transform(scaled_test_df)\n",
    "\n",
    "# Show the scaled DataFrame\n",
    "assembled_scaled_train_df.show(10)"
   ]
  },
  {
   "cell_type": "code",
   "execution_count": 151,
   "metadata": {},
   "outputs": [
    {
     "name": "stdout",
     "output_type": "stream",
     "text": [
      "accuracy: 0.7671340173885799\n"
     ]
    }
   ],
   "source": [
    "# Create a Linear Regression model\n",
    "lr = LogisticRegression(featuresCol=\"features\", labelCol=\"gender_1\")\n",
    "\n",
    "# Fit the model to the data\n",
    "lr_model = lr.fit(assembled_scaled_train_df)\n",
    "\n",
    "#print(\"Coefficients: %s\" % str(lr_model.coefficients))\n",
    "#print(\"Intercept: %s\" % str(lr_model.intercept))\n",
    "#\n",
    "pred = lr_model.transform(assembled_scaled_test_df)\n",
    "#pred.show(10)\n",
    "#\n",
    "## Create a RegressionEvaluator object\n",
    "evaluator = MulticlassClassificationEvaluator(labelCol=\"gender_1\", predictionCol=\"prediction\")\n",
    "#\n",
    "#\n",
    "## Calculate areaUnderROC\n",
    "a_roc = evaluator.evaluate(pred, {evaluator.metricName: \"accuracy\"})\n",
    "#\n",
    "## Calculate MSE\n",
    "#mse = evaluator.evaluate(pred, {evaluator.metricName: \"mse\"})\n",
    "#\n",
    "## Calculate MAE\n",
    "#mae = evaluator.evaluate(pred, {evaluator.metricName: \"mae\"})\n",
    "#\n",
    "## Calculate R2\n",
    "#r2 = evaluator.evaluate(pred, {evaluator.metricName: \"r2\"})\n",
    "#\n",
    "print(\"accuracy:\", a_roc)\n",
    "#print(\"MSE:\", mse)\n",
    "#print(\"MAE:\", mae)\n",
    "#print(\"R2:\", r2)"
   ]
  },
  {
   "cell_type": "code",
   "execution_count": 156,
   "metadata": {},
   "outputs": [
    {
     "name": "stdout",
     "output_type": "stream",
     "text": [
      "Reverted Coefficients: [-0.19184424248498938]\n",
      "Reverted Bias: 32.40528816895259\n"
     ]
    },
    {
     "data": {
      "image/png": "[encoded data removed]",
      "text/plain": [
       "<Figure size 640x480 with 1 Axes>"
      ]
     },
     "metadata": {},
     "output_type": "display_data"
    }
   ],
   "source": [
    "# Get the coefficients and bias from lr_model\n",
    "coefficients = [lr_model.coefficients[0]] * 100\n",
    "\n",
    "bias = lr_model.intercept\n",
    "\n",
    "# Define the x values for the regression line\n",
    "x = np.linspace(50, 200, 100)\n",
    "\n",
    "# Calculate the y values for the regression line\n",
    "def logistic_regression(x, coefficients, bias):\n",
    "    z = (coefficients * x) + bias\n",
    "    return 1 / (1 + np.exp(-z))\n",
    "\n",
    "# Get the scaling parameters from the scalers_model\n",
    "scaling_params = scalers_model.stages[-1].originalMin.toArray(), scalers_model.stages[-1].originalMax.toArray()\n",
    "reverted_coefficients = lr_model.coefficients / (scaling_params[1] - scaling_params[0])\n",
    "reverted_bias = lr_model.intercept - np.dot(reverted_coefficients, scaling_params[0])\n",
    "\n",
    "y = logistic_regression(x, reverted_coefficients, reverted_bias)\n",
    "\n",
    "\n",
    "# Revert the bias\n",
    "#reverted_bias = lr_model.intercept - np.dot(reverted_coefficients, scaling_params[0])\n",
    "\n",
    "# Print the reverted coefficients and bias\n",
    "print(\"Reverted Coefficients:\", reverted_coefficients)\n",
    "print(\"Reverted Bias:\", reverted_bias)\n",
    "\n",
    "plt.scatter(assembled_scaled_test_df.select('height').collect(), assembled_scaled_test_df.select('gender_1').collect())\n",
    "\n",
    "# Plot the regression line\n",
    "plt.plot(x, y, color='red', label='Regression Line')\n",
    "plt.xlabel('Height')\n",
    "plt.ylabel('Gender')\n",
    "plt.title('Regression Function')\n",
    "plt.legend()\n",
    "plt.show()\n"
   ]
  },
  {
   "cell_type": "code",
   "execution_count": 174,
   "metadata": {},
   "outputs": [
    {
     "data": {
      "text/plain": [
       "168.9145723072096"
      ]
     },
     "execution_count": 174,
     "metadata": {},
     "output_type": "execute_result"
    }
   ],
   "source": [
    "z"
   ]
  },
  {
   "cell_type": "code",
   "execution_count": 184,
   "metadata": {},
   "outputs": [
    {
     "name": "stdout",
     "output_type": "stream",
     "text": [
      "The decision boundary is at 168.9145723072096 centimeters\n"
     ]
    },
    {
     "data": {
      "image/png": "[encoded data removed]",
      "text/plain": [
       "<Figure size 640x480 with 1 Axes>"
      ]
     },
     "metadata": {},
     "output_type": "display_data"
    }
   ],
   "source": [
    "# Plot the actual data points\n",
    "import numpy as np\n",
    "\n",
    "heights = assembled_scaled_test_df.select('height').collect()\n",
    "z = -reverted_bias / reverted_coefficients[0]\n",
    "\n",
    "print(f\"The decision boundary is at {z} centimeters\")\n",
    "fig, ax = plt.subplots(1)\n",
    "\n",
    "ax.scatter(heights, np.zeros(len(heights)))\n",
    "ax.axvline(x=z, color='red', linestyle='--', label='Decision Boundary')\n",
    "ax.set_yticks([])\n",
    "plt.xlabel('Height')\n",
    "plt.ylabel('')\n",
    "plt.title('Decision Boundary of Height to Predict Gender')\n",
    "\n",
    "\n",
    "# Show the legend\n",
    "plt.legend()\n",
    "\n",
    "# Show the plot\n",
    "plt.show()\n"
   ]
  },
  {
   "cell_type": "code",
   "execution_count": 157,
   "metadata": {},
   "outputs": [
    {
     "data": {
      "image/png": "[encoded data removed]",
      "text/plain": [
       "<Figure size 640x480 with 1 Axes>"
      ]
     },
     "metadata": {},
     "output_type": "display_data"
    }
   ],
   "source": [
    "# Get the objective history from the lr_model summary\n",
    "objective_history = lr_model.summary.objectiveHistory\n",
    "\n",
    "# Create a list of iterations\n",
    "iterations = list(range(1, len(objective_history) + 1))\n",
    "\n",
    "plt.plot(iterations, objective_history)\n",
    "plt.xlabel('Iterations')\n",
    "plt.ylabel('Objective History')\n",
    "plt.title('Objective History vs Iterations')\n",
    "plt.show()"
   ]
  }
 ],
 "metadata": {
  "kernelspec": {
   "display_name": "Python 3 (ipykernel)",
   "language": "python",
   "name": "python3"
  }
 },
 "nbformat": 4,
 "nbformat_minor": 4
}
