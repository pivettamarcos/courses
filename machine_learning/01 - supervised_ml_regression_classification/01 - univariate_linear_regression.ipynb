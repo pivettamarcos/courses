{
 "cells": [
  {
   "cell_type": "markdown",
   "metadata": {},
   "source": [
    "# Supervised Machine Learning: Regression and Classification"
   ]
  },
  {
   "cell_type": "code",
   "execution_count": 7,
   "metadata": {},
   "outputs": [],
   "source": [
    "\n",
    "import matplotlib.pyplot as plt\n",
    "import sys\n",
    "sys.path.insert(0, './work/machine_learning/01 - supervised_ml_regression_classification')\n",
    "from lab_utils_uni import plt_intuition, plt_stationary, plt_update_onclick, soup_bowl\n",
    "\n",
    "from pyspark.sql import SparkSession\n",
    "from pyspark.sql.functions import regexp_replace, unix_timestamp, col, regexp_replace\n",
    "from pyspark.ml.evaluation import RegressionEvaluator\n",
    "from pyspark.ml.feature import VectorAssembler, OneHotEncoder, StringIndexer\n",
    "from pyspark.sql.types import StructType, StructField, IntegerType\n",
    "from pyspark.ml.regression import LinearRegression\n",
    "from pyspark.ml.stat import Correlation\n",
    "import pyspark.pandas as ps\n",
    "from pyspark import StorageLevel\n",
    "\n",
    "import numpy as np\n",
    "import math"
   ]
  },
  {
   "cell_type": "markdown",
   "metadata": {},
   "source": [
    "## Pyspark config"
   ]
  },
  {
   "cell_type": "code",
   "execution_count": 2,
   "metadata": {},
   "outputs": [],
   "source": [
    "# SPAWN A SPARKSESSION\n",
    "spark = SparkSession.\\\n",
    "        builder.\\\n",
    "        appName(\"pyspark-notebook\").\\\n",
    "        master(\"spark://spark-master:7077\").\\\n",
    "        config(\"spark.executor.cores\", \"12\").\\\n",
    "        config(\"spark.executor.memory\", \"1024mb\").\\\n",
    "        getOrCreate()"
   ]
  },
  {
   "cell_type": "code",
   "execution_count": 8,
   "metadata": {},
   "outputs": [
    {
     "data": {
      "text/html": [
       "<div>\n",
       "<style scoped>\n",
       "    .dataframe tbody tr th:only-of-type {\n",
       "        vertical-align: middle;\n",
       "    }\n",
       "\n",
       "    .dataframe tbody tr th {\n",
       "        vertical-align: top;\n",
       "    }\n",
       "\n",
       "    .dataframe thead th {\n",
       "        text-align: right;\n",
       "    }\n",
       "</style>\n",
       "<table border=\"1\" class=\"dataframe\">\n",
       "  <thead>\n",
       "    <tr style=\"text-align: right;\">\n",
       "      <th></th>\n",
       "      <th>age</th>\n",
       "      <th>height</th>\n",
       "      <th>weight</th>\n",
       "      <th>ap_hi</th>\n",
       "      <th>ap_lo</th>\n",
       "      <th>cholesterol</th>\n",
       "      <th>gender_1</th>\n",
       "      <th>gender_2</th>\n",
       "      <th>smoke_0</th>\n",
       "      <th>smoke_1</th>\n",
       "    </tr>\n",
       "    <tr>\n",
       "      <th>id</th>\n",
       "      <th></th>\n",
       "      <th></th>\n",
       "      <th></th>\n",
       "      <th></th>\n",
       "      <th></th>\n",
       "      <th></th>\n",
       "      <th></th>\n",
       "      <th></th>\n",
       "      <th></th>\n",
       "      <th></th>\n",
       "    </tr>\n",
       "  </thead>\n",
       "  <tbody>\n",
       "    <tr>\n",
       "      <th>0</th>\n",
       "      <td>18393</td>\n",
       "      <td>168</td>\n",
       "      <td>62</td>\n",
       "      <td>110</td>\n",
       "      <td>80</td>\n",
       "      <td>1</td>\n",
       "      <td>0</td>\n",
       "      <td>1</td>\n",
       "      <td>1</td>\n",
       "      <td>0</td>\n",
       "    </tr>\n",
       "    <tr>\n",
       "      <th>1</th>\n",
       "      <td>20228</td>\n",
       "      <td>156</td>\n",
       "      <td>85</td>\n",
       "      <td>140</td>\n",
       "      <td>90</td>\n",
       "      <td>3</td>\n",
       "      <td>1</td>\n",
       "      <td>0</td>\n",
       "      <td>1</td>\n",
       "      <td>0</td>\n",
       "    </tr>\n",
       "    <tr>\n",
       "      <th>2</th>\n",
       "      <td>18857</td>\n",
       "      <td>165</td>\n",
       "      <td>64</td>\n",
       "      <td>130</td>\n",
       "      <td>70</td>\n",
       "      <td>3</td>\n",
       "      <td>1</td>\n",
       "      <td>0</td>\n",
       "      <td>1</td>\n",
       "      <td>0</td>\n",
       "    </tr>\n",
       "    <tr>\n",
       "      <th>3</th>\n",
       "      <td>17623</td>\n",
       "      <td>169</td>\n",
       "      <td>82</td>\n",
       "      <td>150</td>\n",
       "      <td>100</td>\n",
       "      <td>1</td>\n",
       "      <td>0</td>\n",
       "      <td>1</td>\n",
       "      <td>1</td>\n",
       "      <td>0</td>\n",
       "    </tr>\n",
       "    <tr>\n",
       "      <th>4</th>\n",
       "      <td>17474</td>\n",
       "      <td>156</td>\n",
       "      <td>56</td>\n",
       "      <td>100</td>\n",
       "      <td>60</td>\n",
       "      <td>1</td>\n",
       "      <td>1</td>\n",
       "      <td>0</td>\n",
       "      <td>1</td>\n",
       "      <td>0</td>\n",
       "    </tr>\n",
       "    <tr>\n",
       "      <th>8</th>\n",
       "      <td>21914</td>\n",
       "      <td>151</td>\n",
       "      <td>67</td>\n",
       "      <td>120</td>\n",
       "      <td>80</td>\n",
       "      <td>2</td>\n",
       "      <td>1</td>\n",
       "      <td>0</td>\n",
       "      <td>1</td>\n",
       "      <td>0</td>\n",
       "    </tr>\n",
       "    <tr>\n",
       "      <th>9</th>\n",
       "      <td>22113</td>\n",
       "      <td>157</td>\n",
       "      <td>93</td>\n",
       "      <td>130</td>\n",
       "      <td>80</td>\n",
       "      <td>3</td>\n",
       "      <td>1</td>\n",
       "      <td>0</td>\n",
       "      <td>1</td>\n",
       "      <td>0</td>\n",
       "    </tr>\n",
       "    <tr>\n",
       "      <th>12</th>\n",
       "      <td>22584</td>\n",
       "      <td>178</td>\n",
       "      <td>95</td>\n",
       "      <td>130</td>\n",
       "      <td>90</td>\n",
       "      <td>3</td>\n",
       "      <td>0</td>\n",
       "      <td>1</td>\n",
       "      <td>1</td>\n",
       "      <td>0</td>\n",
       "    </tr>\n",
       "    <tr>\n",
       "      <th>13</th>\n",
       "      <td>17668</td>\n",
       "      <td>158</td>\n",
       "      <td>71</td>\n",
       "      <td>110</td>\n",
       "      <td>70</td>\n",
       "      <td>1</td>\n",
       "      <td>1</td>\n",
       "      <td>0</td>\n",
       "      <td>1</td>\n",
       "      <td>0</td>\n",
       "    </tr>\n",
       "    <tr>\n",
       "      <th>14</th>\n",
       "      <td>19834</td>\n",
       "      <td>164</td>\n",
       "      <td>68</td>\n",
       "      <td>110</td>\n",
       "      <td>60</td>\n",
       "      <td>1</td>\n",
       "      <td>1</td>\n",
       "      <td>0</td>\n",
       "      <td>1</td>\n",
       "      <td>0</td>\n",
       "    </tr>\n",
       "  </tbody>\n",
       "</table>\n",
       "</div>"
      ],
      "text/plain": [
       "      age  height  weight  ap_hi  ap_lo  cholesterol  gender_1  gender_2  smoke_0  smoke_1\n",
       "id                                                                                        \n",
       "0   18393     168      62    110     80            1         0         1        1        0\n",
       "1   20228     156      85    140     90            3         1         0        1        0\n",
       "2   18857     165      64    130     70            3         1         0        1        0\n",
       "3   17623     169      82    150    100            1         0         1        1        0\n",
       "4   17474     156      56    100     60            1         1         0        1        0\n",
       "8   21914     151      67    120     80            2         1         0        1        0\n",
       "9   22113     157      93    130     80            3         1         0        1        0\n",
       "12  22584     178      95    130     90            3         0         1        1        0\n",
       "13  17668     158      71    110     70            1         1         0        1        0\n",
       "14  19834     164      68    110     60            1         1         0        1        0"
      ]
     },
     "execution_count": 8,
     "metadata": {},
     "output_type": "execute_result"
    }
   ],
   "source": [
    "# Read dataset for this course and cache() it\n",
    "\n",
    "df = ps.read_csv(\"hdfs://namenode:9000/data/cardio_base.csv\", index_col=\"id\")\n",
    "df = df.astype(int)\n",
    "\n",
    "df = ps.get_dummies(df, columns=['gender', 'smoke'], dtype='int', )\n",
    "\n",
    "df = df.loc[df['ap_hi'] < 500]\n",
    "\n",
    "\n",
    "# Why cache dataframe?\n",
    "# Reusing Data: Caching is optimal when you need to perform multiple operations on the same dataset to \n",
    "#    avoid reading from storage repeatedly.\n",
    "# Frequent Subset Access: Useful for frequently accessing small subsets of a large dataset, reducing the \n",
    "#    need to load the entire dataset repeatedly.\n",
    "\n",
    "df_cached = df.spark.persist(StorageLevel.MEMORY_ONLY)\n",
    "\n",
    "df_cached.head(10)"
   ]
  },
  {
   "cell_type": "code",
   "execution_count": 9,
   "metadata": {},
   "outputs": [
    {
     "data": {
      "text/plain": [
       "age            int64\n",
       "height         int64\n",
       "weight         int64\n",
       "ap_hi          int64\n",
       "ap_lo          int64\n",
       "cholesterol    int64\n",
       "gender_1       int64\n",
       "gender_2       int64\n",
       "smoke_0        int64\n",
       "smoke_1        int64\n",
       "dtype: object"
      ]
     },
     "execution_count": 9,
     "metadata": {},
     "output_type": "execute_result"
    }
   ],
   "source": [
    "from pyspark.sql.functions import unix_timestamp, col\n",
    "df_cached.dtypes"
   ]
  },
  {
   "cell_type": "markdown",
   "metadata": {},
   "source": [
    "## Week 1"
   ]
  },
  {
   "cell_type": "markdown",
   "metadata": {},
   "source": [
    "### Applications of Machine Learning\n",
    "\n",
    "- Machine Learning learns from experience (Data)\n",
    "- There are four types of machine learning categories:\n",
    "    - **Supervised learning**\n",
    "    - Unsupervised learning\n",
    "    - Recommender system\n",
    "    - Reinforcement learning\n",
    "\n"
   ]
  },
  {
   "cell_type": "markdown",
   "metadata": {},
   "source": [
    "#### Supervised learning"
   ]
  },
  {
   "cell_type": "markdown",
   "metadata": {},
   "source": [
    "##### **Univariate Linear regression**"
   ]
  },
  {
   "cell_type": "markdown",
   "metadata": {},
   "source": [
    "![alt text](1.png)\n",
    "\n",
    "The equation for univariate linear regression is\n",
    "$$\n",
    "\\hat{y} = mx + b\n",
    "$$\n",
    "\n",
    "where:\n",
    "- \\( $ \\hat{y} $ \\) is the prediction\n",
    "- \\( x \\) is the (single) feature\n",
    "- Parameters\n",
    "    - \\( m \\) is the slope of the line\n",
    "    - \\( b \\) is the y-intercept of the line"
   ]
  },
  {
   "cell_type": "markdown",
   "metadata": {},
   "source": [
    "![alt text](2.png)\n",
    "\n",
    "$$J(w,b) = \\frac{1}{2m} \\sum\\limits_{i = 0}^{m-1} (f_{w,b}(x^{(i)}) - y^{(i)})^2 \\tag{1}$$\n",
    "\n",
    "This is the Mean-Squared Error cost function we try to minimize with linear regression. In summary, it measures the distance between predicted values and real values of y. It is one of the most common cost functions. Thus the objective is to:\n",
    "\n",
    "$$\\min J(w,b)$$"
   ]
  },
  {
   "cell_type": "markdown",
   "metadata": {},
   "source": [
    "Gradient descent, a famous algorithm for minimizing cost functions based on tuning of parameters, can be used to solve linear regression. For example: $$ w = w - \\alpha \\cdot \\frac{\\partial J(w, b)}{\\partial w} $$ $$ b = b - \\alpha \\cdot \\frac{\\partial J(w, b)}{\\partial w} $$\n",
    "\n",
    "where:\n",
    "\n",
    "- ( w ) and ( b ) are the parameters of the model\n",
    "- ( $ \\alpha $ ) is the learning rate (step size)\n",
    "- ( $ J(w, b) $ ) is the cost function"
   ]
  },
  {
   "cell_type": "markdown",
   "metadata": {},
   "source": [
    "##### Implementation of Univariate Linear Regression in Spark using pyspark.pandas API"
   ]
  },
  {
   "cell_type": "code",
   "execution_count": 29,
   "metadata": {},
   "outputs": [
    {
     "name": "stderr",
     "output_type": "stream",
     "text": [
      "/usr/local/spark/python/pyspark/pandas/utils.py:1016: PandasAPIOnSparkAdviceWarning: If `index_col` is not specified for `to_spark`, the existing index is lost when converting to Spark DataFrame.\n",
      "  warnings.warn(message, PandasAPIOnSparkAdviceWarning)\n"
     ]
    },
    {
     "name": "stdout",
     "output_type": "stream",
     "text": [
      "Coefficients: [0.0014148590043363144]\n",
      "Intercept: 99.16021771958486\n",
      "+-----+------+------+-----+-----+-----------+--------+--------+-------+-------+---------+------------------+\n",
      "|  age|height|weight|ap_hi|ap_lo|cholesterol|gender_1|gender_2|smoke_0|smoke_1| features|        prediction|\n",
      "+-----+------+------+-----+-----+-----------+--------+--------+-------+-------+---------+------------------+\n",
      "|14314|   166|    64|  120|   80|          3|       0|       1|      1|      0|[14314.0]|119.41250950765487|\n",
      "|14330|   150|    73|  120|   80|          1|       0|       1|      0|      1|[14330.0]|119.43514725172425|\n",
      "|14336|   165|    61|   90|   60|          1|       1|       0|      1|      0|[14336.0]|119.44363640575027|\n",
      "|14360|   152|    99|   90|   60|          1|       1|       0|      1|      0|[14360.0]|119.47759302185435|\n",
      "|14370|   152|    72|  110|   70|          1|       1|       0|      1|      0|[14370.0]|119.49174161189771|\n",
      "|14383|   155|    61|  110|   70|          2|       1|       0|      1|      0|[14383.0]|119.51013477895407|\n",
      "|14393|   162|    52|  120|   80|          1|       1|       0|      1|      0|[14393.0]|119.52428336899743|\n",
      "|14405|   169|    72|  110|   70|          1|       1|       0|      1|      0|[14405.0]|119.54126167704948|\n",
      "|14422|   158|    89|  110|   70|          1|       1|       0|      1|      0|[14422.0]|119.56531428012319|\n",
      "|14423|   160|    89|  100|   70|          1|       1|       0|      0|      1|[14423.0]|119.56672913912753|\n",
      "+-----+------+------+-----+-----+-----------+--------+--------+-------+-------+---------+------------------+\n",
      "only showing top 10 rows\n",
      "\n",
      "RMSE: 18.495901059387286\n",
      "MSE: 342.09835599864374\n",
      "MAE: 13.563897854375655\n",
      "R2: 0.02636265084715128\n"
     ]
    }
   ],
   "source": [
    "# LINEAR REGRESSION AGE AGE IN DAYS AND SYSTOLIC BLOOD PRESSURE\n",
    "from pyspark.ml.regression import LinearRegression\n",
    "from pyspark.ml.feature import VectorAssembler\n",
    "from pyspark.ml.evaluation import RegressionEvaluator\n",
    "\n",
    "sampled_df = df_cached.sample(frac=0.1)\n",
    "\n",
    "# Convert pandas dataframe to Spark dataframe\n",
    "spark_df = sampled_df.to_spark()\n",
    "\n",
    "# Create a vector assembler to combine the features into a single vector column\n",
    "assembler = VectorAssembler(inputCols=[\"age\"], outputCol=\"features\")\n",
    "\n",
    "# Transform the dataframe using the vector assembler\n",
    "assembled_df = assembler.transform(spark_df)\n",
    "\n",
    "# Split the data into a training and test set\n",
    "train_ratio = 0.8\n",
    "test_ratio = 1 - train_ratio\n",
    "\n",
    "train_df, test_df = assembled_df.randomSplit([train_ratio, test_ratio], seed=42)\n",
    "\n",
    "# Create a Linear Regression model\n",
    "lr = LinearRegression(featuresCol=\"features\", labelCol=\"ap_hi\")\n",
    "\n",
    "# Fit the model to the data\n",
    "lr_model = lr.fit(train_df)\n",
    "\n",
    "print(\"Coefficients: %s\" % str(lr_model.coefficients))\n",
    "print(\"Intercept: %s\" % str(lr_model.intercept))\n",
    "\n",
    "pred = lr_model.transform(test_df)\n",
    "pred.show(10)\n",
    "\n",
    "# Create a RegressionEvaluator object\n",
    "evaluator = RegressionEvaluator(labelCol=\"ap_hi\", predictionCol=\"prediction\")\n",
    "\n",
    "\n",
    "# Calculate RMSE\n",
    "rmse = evaluator.evaluate(pred, {evaluator.metricName: \"rmse\"})\n",
    "\n",
    "# Calculate MSE\n",
    "mse = evaluator.evaluate(pred, {evaluator.metricName: \"mse\"})\n",
    "\n",
    "# Calculate MAE\n",
    "mae = evaluator.evaluate(pred, {evaluator.metricName: \"mae\"})\n",
    "\n",
    "# Calculate R2\n",
    "r2 = evaluator.evaluate(pred, {evaluator.metricName: \"r2\"})\n",
    "\n",
    "print(\"RMSE:\", rmse)\n",
    "print(\"MSE:\", mse)\n",
    "print(\"MAE:\", mae)\n",
    "print(\"R2:\", r2)"
   ]
  },
  {
   "cell_type": "code",
   "execution_count": 14,
   "metadata": {},
   "outputs": [],
   "source": [
    "def compute_linear_function(x, w, b):\n",
    "    \"\"\"\n",
    "    Computes the prediction of a linear model\n",
    "    Args:\n",
    "      x (ndarray (m,)): Data, m examples \n",
    "      w,b (scalar)    : model parameters  \n",
    "    Returns\n",
    "      y (ndarray (m,)): target values\n",
    "    \"\"\"\n",
    "    m = x.shape[0]\n",
    "    f_wb = np.zeros(m)\n",
    "    for i in range(m):\n",
    "        f_wb[i] = w * x[i] + b\n",
    "        \n",
    "    return f_wb"
   ]
  },
  {
   "cell_type": "code",
   "execution_count": 34,
   "metadata": {},
   "outputs": [
    {
     "name": "stderr",
     "output_type": "stream",
     "text": [
      "/usr/local/spark/python/pyspark/pandas/utils.py:1016: PandasAPIOnSparkAdviceWarning: `to_numpy` loads all data into the driver's memory. It should only be used if the resulting NumPy ndarray is expected to be small.\n",
      "  warnings.warn(message, PandasAPIOnSparkAdviceWarning)\n",
      "/usr/local/spark/python/pyspark/pandas/utils.py:1016: PandasAPIOnSparkAdviceWarning: `to_numpy` loads all data into the driver's memory. It should only be used if the resulting NumPy ndarray is expected to be small.\n",
      "  warnings.warn(message, PandasAPIOnSparkAdviceWarning)\n"
     ]
    },
    {
     "data": {
      "image/png": "[encoded data removed]",
      "text/plain": [
       "<Figure size 640x480 with 1 Axes>"
      ]
     },
     "metadata": {},
     "output_type": "display_data"
    }
   ],
   "source": [
    "w = lr_model.coefficients[0]\n",
    "b = lr_model.intercept\n",
    "\n",
    "x_train = sampled_df[['age']].to_numpy()\n",
    "y_train = sampled_df[['ap_hi']].to_numpy()\n",
    "\n",
    "tmp_f_wb = compute_linear_function(x_train, w, b,)\n",
    "\n",
    "plt.plot(x_train, tmp_f_wb, c='b',label='Our Prediction')\n",
    "plt.scatter(x_train, y_train, marker='x', c='r')\n",
    "# Set the title\n",
    "plt.title(\"Age in days to Systolic Blood Pressure\")\n",
    "# Set the y-axis label\n",
    "plt.ylabel('Systolic Blood Pressure')\n",
    "# Set the x-axis label\n",
    "plt.xlabel('Age in days')\n",
    "plt.show()"
   ]
  }
 ],
 "metadata": {
  "kernelspec": {
   "display_name": "Python 3 (ipykernel)",
   "language": "python",
   "name": "python3"
  },
  "language_info": {
   "codemirror_mode": {
    "name": "ipython",
    "version": 3
   },
   "file_extension": ".py",
   "mimetype": "text/x-python",
   "name": "python",
   "nbconvert_exporter": "python",
   "pygments_lexer": "ipython3",
   "version": "3.11.6"
  }
 },
 "nbformat": 4,
 "nbformat_minor": 4
}
