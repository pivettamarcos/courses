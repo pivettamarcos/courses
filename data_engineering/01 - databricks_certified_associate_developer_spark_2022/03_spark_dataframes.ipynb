{
 "cells": [
  {
   "cell_type": "code",
   "execution_count": 91,
   "metadata": {},
   "outputs": [],
   "source": [
    "# Databricks notebook source\n",
    "from databricks.connect import DatabricksSession\n",
    "from pyspark.sql.types import IntegerType, StringType, StructField, StructType, BooleanType, FloatType, DateType, TimestampType, ArrayType, MapType, StructType\n",
    "from pyspark.sql.functions import explode, explode_outer, col\n",
    "from pyspark.sql import Row\n",
    "import pandas as pd\n",
    "import datetime\n",
    "#\n",
    "spark = DatabricksSession.builder.profile(\"test\").getOrCreate()"
   ]
  },
  {
   "cell_type": "markdown",
   "metadata": {},
   "source": [
    "#### Create Spark DataFrame from different python structures"
   ]
  },
  {
   "cell_type": "code",
   "execution_count": 58,
   "metadata": {},
   "outputs": [
    {
     "name": "stdout",
     "output_type": "stream",
     "text": [
      "+-------+---------------+\n",
      "|user_id|user_first_name|\n",
      "+-------+---------------+\n",
      "|      1|          Scott|\n",
      "|      2|         Donald|\n",
      "|      3|         Mickey|\n",
      "|      4|          Elvis|\n",
      "+-------+---------------+\n",
      "\n"
     ]
    }
   ],
   "source": [
    "# create a multicolumn dataframe and set name of columns and types\n",
    "users_list = [(1, 'Scott'), (2, 'Donald'), (3, 'Mickey'), (4, 'Elvis')]\n",
    "\n",
    "spark.createDataFrame(users_list, 'user_id int, user_first_name string').show()\n"
   ]
  },
  {
   "cell_type": "code",
   "execution_count": 6,
   "metadata": {},
   "outputs": [
    {
     "data": {
      "text/plain": [
       "[Row(user_id=1, user_first_name='Scott'),\n",
       " Row(user_id=2, user_first_name='Donald'),\n",
       " Row(user_id=3, user_first_name='Mickey'),\n",
       " Row(user_id=4, user_first_name='Elvis')]"
      ]
     },
     "execution_count": 6,
     "metadata": {},
     "output_type": "execute_result"
    }
   ],
   "source": [
    "# transform spark dataframe into list of Rows\n",
    "df.collect()"
   ]
  },
  {
   "cell_type": "code",
   "execution_count": 57,
   "metadata": {},
   "outputs": [
    {
     "data": {
      "text/plain": [
       "Row(name='Alice', age=11)"
      ]
     },
     "execution_count": 57,
     "metadata": {},
     "output_type": "execute_result"
    }
   ],
   "source": [
    "Row(name=\"Alice\", age=11)"
   ]
  },
  {
   "cell_type": "code",
   "execution_count": 19,
   "metadata": {},
   "outputs": [],
   "source": [
    "# Convert list of list to list of Spark Rows\n",
    "# use asterik to unpack the attributes of each user and pass them as arguments to the Row class\n",
    "user_rows = [Row(*user) for user in users_list]"
   ]
  },
  {
   "cell_type": "code",
   "execution_count": 55,
   "metadata": {},
   "outputs": [
    {
     "name": "stdout",
     "output_type": "stream",
     "text": [
      "+-------+---------------+\n",
      "|user_id|user_first_name|\n",
      "+-------+---------------+\n",
      "|      1|          Scott|\n",
      "|      2|         Donald|\n",
      "|      3|         Mickey|\n",
      "|      4|          Elvis|\n",
      "+-------+---------------+\n",
      "\n"
     ]
    }
   ],
   "source": [
    "# convert list of rows to dataframe, SAME as creating a dataframe from a list of tuples\n",
    "spark.createDataFrame(user_rows, 'user_id int, user_first_name string').show()"
   ]
  },
  {
   "cell_type": "code",
   "execution_count": 54,
   "metadata": {},
   "outputs": [
    {
     "name": "stdout",
     "output_type": "stream",
     "text": [
      "+-------+---------------+\n",
      "|user_id|user_first_name|\n",
      "+-------+---------------+\n",
      "|      1|          Scott|\n",
      "|      2|         Donald|\n",
      "|      3|         Mickey|\n",
      "|      4|          Elvis|\n",
      "+-------+---------------+\n",
      "\n"
     ]
    }
   ],
   "source": [
    "# convert pandas dataframe to spark dataframe\n",
    "spark.createDataFrame(pd.DataFrame(users_list), 'user_id int, user_first_name string').show()"
   ]
  },
  {
   "cell_type": "markdown",
   "metadata": {},
   "source": [
    "#### Data Types\n"
   ]
  },
  {
   "cell_type": "code",
   "execution_count": 100,
   "metadata": {},
   "outputs": [],
   "source": [
    "users = [\n",
    "    {\n",
    "        \"id\": 1,\n",
    "        \"first_name\": \"Corrie\",\n",
    "        \"last_name\": \"Van den Oord\",\n",
    "        \"email\": \"cvandenoord0@etsy.com\",\n",
    "        \"phone_numbers_array\": [\"+1 234 567 8901\", \"+1 234 567 8911\"],\n",
    "        \"phone_numbers_map\": {\"mobile\": \"+1 234 567 8901\", \"home\": \"+1 234 567 8911\"},\n",
    "        \"phone_numbers_struct\": Row(mobile=\"+1 234 567 8901\", home=\"+1 234 567 8911\"),\n",
    "        \"is_customer\": True,\n",
    "        \"amount_paid\": 1000.55,\n",
    "        \"customer_from\": datetime.date(2021, 1, 15),\n",
    "        \"last_updated_ts\": datetime.datetime(2021, 2, 10, 1, 15, 0)\n",
    "    },\n",
    "    {\n",
    "        \"id\": 2,\n",
    "        \"first_name\": \"Nikolaus\",\n",
    "        \"last_name\": \"Brewitt\",\n",
    "        \"email\": \"nbrewitt1@dailymail.co.uk\",\n",
    "        \"phone_numbers_array\": [\"+1 234 567 8923\", \"+1 234 567 8934\"],\n",
    "        \"phone_numbers_map\": {\"mobile\": \"+1 234 567 8923\", \"home\": \"+1 234 567 8934\"},\n",
    "        \"phone_numbers_struct\":  Row(mobile=\"+1 234 567 8923\", home=\"1 234 567 8934\"),\n",
    "        \"is_customer\": True,\n",
    "        \"amount_paid\": 900.0,\n",
    "        \"customer_from\": datetime.date(2021, 2, 14),\n",
    "        \"last_updated_ts\": datetime.datetime(2021, 2, 18, 3, 33, 0)\n",
    "    },\n",
    "    {\n",
    "        \"id\": 3,\n",
    "        \"first_name\": \"Orelie\",\n",
    "        \"last_name\": \"Penney\",\n",
    "        \"email\": \"openney2@vistaprint.com\",\n",
    "        \"phone_numbers_array\": [\"+1 714 512 9752\", \"+1 714 512 6601\"],\n",
    "        \"phone_numbers_map\": {\"mobile\": \"+1 714 512 9752\", \"home\": \"+1 714 512 6601\"},\n",
    "        \"phone_numbers_struct\": Row(mobile=\"+1 714 512 9752\", home=\"+1 714 512 6601\"),\n",
    "        \"is_customer\": True,\n",
    "        \"amount_paid\": 850.55,\n",
    "        \"customer_from\": datetime.date(2021, 1, 21),\n",
    "        \"last_updated_ts\": datetime.datetime(2021, 3, 15, 15, 16, 55)\n",
    "    },\n",
    "    {\n",
    "        \"id\": 4,\n",
    "        \"first_name\": \"Ashby\",\n",
    "        \"last_name\": \"Maddocks\",\n",
    "        \"email\": \"amaddocks3@home.pl\",\n",
    "        \"phone_numbers_array\": None,\n",
    "        \"phone_numbers_map\": None,\n",
    "        \"phone_numbers_struct\": Row(mobile=None, home=None),\n",
    "        \"is_customer\": False,\n",
    "        \"amount_paid\": None,\n",
    "        \"customer_from\": None,\n",
    "        \"last_updated_ts\": datetime.datetime(2021, 4, 10, 17, 45, 30)\n",
    "    },\n",
    "    {\n",
    "        \"id\": 5,\n",
    "        \"first_name\": \"Kurt\",\n",
    "        \"last_name\": \"Rome\",\n",
    "        \"email\": \"krome4@shutterfly.com\",\n",
    "        \"phone_numbers_array\": [\"+1 817 934 7142\"],\n",
    "        \"phone_numbers_map\": {\"mobile\": \"+1 817 934 7142\"},\n",
    "        \"phone_numbers_struct\": Row(mobile=\"+1 817 934 7142\", home=None),\n",
    "        \"is_customer\": False,\n",
    "        \"amount_paid\": None,\n",
    "        \"customer_from\": None,\n",
    "        \"last_updated_ts\": datetime.datetime(2021, 4, 2, 0, 55, 18)\n",
    "    }\n",
    "]\n",
    "\n",
    "\n",
    "# you can use a string, a list of names for the columns or a list of Spark StructFields passed inside StructType\n",
    "#users_schema = '''\n",
    "#    id INT,\n",
    "#    first_name STRING,\n",
    "#    last_name STRING,\n",
    "#    email STRING,\n",
    "#    is_customer BOOLEAN,\n",
    "#    amount_paid FLOAT,\n",
    "#    customer_from DATE,\n",
    "#    last_updated_ts TIMESTAMP\n",
    "#'''\n",
    "\n",
    "users_schema = StructType([\n",
    "    StructField('id', IntegerType()),\n",
    "    StructField('first_name', StringType()),\n",
    "    StructField('last_name', StringType()),\n",
    "    StructField('email', StringType()),\n",
    "    \n",
    "    # Custom type ArrayType\n",
    "    StructField('phone_numbers_array', ArrayType(StringType())),\n",
    "\n",
    "    # Custom type MapType\n",
    "    StructField('phone_numbers_map', MapType(StringType(), StringType())),\n",
    "\n",
    "    # Custom type StructType\n",
    "    StructField('phone_numbers_struct', StructType([\n",
    "                                            StructField(\"mobile\", StringType()), \n",
    "                                            StructField(\"home\", StringType())\n",
    "                                        ])   \n",
    "    ),\n",
    "\n",
    "\n",
    "    StructField('is_customer', BooleanType()),\n",
    "    StructField('amount_paid', FloatType()),\n",
    "    StructField('customer_from', DateType()),\n",
    "    StructField('last_updated_ts', TimestampType())\n",
    "])"
   ]
  },
  {
   "cell_type": "code",
   "execution_count": 101,
   "metadata": {},
   "outputs": [
    {
     "name": "stdout",
     "output_type": "stream",
     "text": [
      "+-----------+-------------+-------------------------+----------+---+-----------+------------+-------------------+----------------------------------+----------------------------------------------------+----------------------------------+\n",
      "|amount_paid|customer_from|email                    |first_name|id |is_customer|last_name   |last_updated_ts    |phone_numbers_array               |phone_numbers_map                                   |phone_numbers_struct              |\n",
      "+-----------+-------------+-------------------------+----------+---+-----------+------------+-------------------+----------------------------------+----------------------------------------------------+----------------------------------+\n",
      "|1000.55    |2021-01-15   |cvandenoord0@etsy.com    |Corrie    |1  |true       |Van den Oord|2021-02-10 04:15:00|[+1 234 567 8901, +1 234 567 8911]|{mobile -> +1 234 567 8901, home -> +1 234 567 8911}|{+1 234 567 8901, +1 234 567 8911}|\n",
      "|900.0      |2021-02-14   |nbrewitt1@dailymail.co.uk|Nikolaus  |2  |true       |Brewitt     |2021-02-18 06:33:00|[+1 234 567 8923, +1 234 567 8934]|{mobile -> +1 234 567 8923, home -> +1 234 567 8934}|{+1 234 567 8923, 1 234 567 8934} |\n",
      "|850.55     |2021-01-21   |openney2@vistaprint.com  |Orelie    |3  |true       |Penney      |2021-03-15 18:16:55|[+1 714 512 9752, +1 714 512 6601]|{mobile -> +1 714 512 9752, home -> +1 714 512 6601}|{+1 714 512 9752, +1 714 512 6601}|\n",
      "|NULL       |NULL         |amaddocks3@home.pl       |Ashby     |4  |false      |Maddocks    |2021-04-10 20:45:30|NULL                              |NULL                                                |{NULL, NULL}                      |\n",
      "|NULL       |NULL         |krome4@shutterfly.com    |Kurt      |5  |false      |Rome        |2021-04-02 03:55:18|[+1 817 934 7142]                 |{mobile -> +1 817 934 7142}                         |{+1 817 934 7142, NULL}           |\n",
      "+-----------+-------------+-------------------------+----------+---+-----------+------------+-------------------+----------------------------------+----------------------------------------------------+----------------------------------+\n",
      "\n"
     ]
    }
   ],
   "source": [
    "# Create Spark DataFrame from list of tuples and schema\n",
    "schema_df = spark.createDataFrame(users)\n",
    "schema_df.show(truncate=False)"
   ]
  },
  {
   "cell_type": "code",
   "execution_count": 102,
   "metadata": {},
   "outputs": [
    {
     "name": "stdout",
     "output_type": "stream",
     "text": [
      "root\n",
      " |-- amount_paid: double (nullable = true)\n",
      " |-- customer_from: date (nullable = true)\n",
      " |-- email: string (nullable = true)\n",
      " |-- first_name: string (nullable = true)\n",
      " |-- id: long (nullable = true)\n",
      " |-- is_customer: boolean (nullable = true)\n",
      " |-- last_name: string (nullable = true)\n",
      " |-- last_updated_ts: timestamp (nullable = true)\n",
      " |-- phone_numbers_array: array (nullable = true)\n",
      " |    |-- element: string (containsNull = true)\n",
      " |-- phone_numbers_map: map (nullable = true)\n",
      " |    |-- key: string\n",
      " |    |-- value: string (valueContainsNull = true)\n",
      " |-- phone_numbers_struct: struct (nullable = true)\n",
      " |    |-- mobile: string (nullable = true)\n",
      " |    |-- home: string (nullable = true)\n",
      "\n"
     ]
    }
   ],
   "source": [
    "schema_df.printSchema()"
   ]
  },
  {
   "cell_type": "markdown",
   "metadata": {},
   "source": [
    "##### Special types\n",
    "\n",
    "- ARRAY\n",
    "Can come from python data type list, can only have one type\n",
    "\n",
    "- STRUCT\n",
    "requires a few api functions to convert from python data types, scan have multiple types\n",
    "\n",
    "- MAP\n",
    "Can come from python data type dictionary"
   ]
  },
  {
   "cell_type": "code",
   "execution_count": 105,
   "metadata": {},
   "outputs": [
    {
     "name": "stdout",
     "output_type": "stream",
     "text": [
      "+-----------+-------------+--------------------+----------+---+-----------+------------+-------------------+------------------+\n",
      "|amount_paid|customer_from|               email|first_name| id|is_customer|   last_name|    last_updated_ts|phone_number_array|\n",
      "+-----------+-------------+--------------------+----------+---+-----------+------------+-------------------+------------------+\n",
      "|    1000.55|   2021-01-15|cvandenoord0@etsy...|    Corrie|  1|       true|Van den Oord|2021-02-10 04:15:00|   +1 234 567 8901|\n",
      "|    1000.55|   2021-01-15|cvandenoord0@etsy...|    Corrie|  1|       true|Van den Oord|2021-02-10 04:15:00|   +1 234 567 8911|\n",
      "|      900.0|   2021-02-14|nbrewitt1@dailyma...|  Nikolaus|  2|       true|     Brewitt|2021-02-18 06:33:00|   +1 234 567 8923|\n",
      "|      900.0|   2021-02-14|nbrewitt1@dailyma...|  Nikolaus|  2|       true|     Brewitt|2021-02-18 06:33:00|   +1 234 567 8934|\n",
      "|     850.55|   2021-01-21|openney2@vistapri...|    Orelie|  3|       true|      Penney|2021-03-15 18:16:55|   +1 714 512 9752|\n",
      "|     850.55|   2021-01-21|openney2@vistapri...|    Orelie|  3|       true|      Penney|2021-03-15 18:16:55|   +1 714 512 6601|\n",
      "|       NULL|         NULL|  amaddocks3@home.pl|     Ashby|  4|      false|    Maddocks|2021-04-10 20:45:30|              NULL|\n",
      "|       NULL|         NULL|krome4@shutterfly...|      Kurt|  5|      false|        Rome|2021-04-02 03:55:18|   +1 817 934 7142|\n",
      "+-----------+-------------+--------------------+----------+---+-----------+------------+-------------------+------------------+\n",
      "\n"
     ]
    }
   ],
   "source": [
    "# explode <- brings out a row for each element in a special type (only returns rows with non-null values) explode_outer (returns all rows)\n",
    "# array\n",
    "schema_df. \\\n",
    "    withColumn('phone_number_array', explode_outer('phone_numbers_array')). \\\n",
    "    drop('phone_numbers_array', 'phone_numbers_map', 'phone_numbers_struct'). \\\n",
    "    show()"
   ]
  },
  {
   "cell_type": "code",
   "execution_count": 117,
   "metadata": {},
   "outputs": [
    {
     "name": "stdout",
     "output_type": "stream",
     "text": [
      "+-----------+-------------+--------------------+----------+---+-----------+------------+-------------------+----------+---------------+\n",
      "|amount_paid|customer_from|               email|first_name| id|is_customer|   last_name|    last_updated_ts|phone_type|   phone_number|\n",
      "+-----------+-------------+--------------------+----------+---+-----------+------------+-------------------+----------+---------------+\n",
      "|    1000.55|   2021-01-15|cvandenoord0@etsy...|    Corrie|  1|       true|Van den Oord|2021-02-10 04:15:00|    mobile|+1 234 567 8901|\n",
      "|    1000.55|   2021-01-15|cvandenoord0@etsy...|    Corrie|  1|       true|Van den Oord|2021-02-10 04:15:00|      home|+1 234 567 8911|\n",
      "|      900.0|   2021-02-14|nbrewitt1@dailyma...|  Nikolaus|  2|       true|     Brewitt|2021-02-18 06:33:00|    mobile|+1 234 567 8923|\n",
      "|      900.0|   2021-02-14|nbrewitt1@dailyma...|  Nikolaus|  2|       true|     Brewitt|2021-02-18 06:33:00|      home|+1 234 567 8934|\n",
      "|     850.55|   2021-01-21|openney2@vistapri...|    Orelie|  3|       true|      Penney|2021-03-15 18:16:55|    mobile|+1 714 512 9752|\n",
      "|     850.55|   2021-01-21|openney2@vistapri...|    Orelie|  3|       true|      Penney|2021-03-15 18:16:55|      home|+1 714 512 6601|\n",
      "|       NULL|         NULL|krome4@shutterfly...|      Kurt|  5|      false|        Rome|2021-04-02 03:55:18|    mobile|+1 817 934 7142|\n",
      "+-----------+-------------+--------------------+----------+---+-----------+------------+-------------------+----------+---------------+\n",
      "\n"
     ]
    }
   ],
   "source": [
    "#map\n",
    "schema_df.select('*', explode('phone_numbers_map')). \\\n",
    "    withColumnRenamed('key', 'phone_type'). \\\n",
    "    withColumnRenamed('value', 'phone_number'). \\\n",
    "    drop('phone_numbers_array', 'phone_numbers_map', 'phone_numbers_struct'). \\\n",
    "    show()"
   ]
  },
  {
   "cell_type": "code",
   "execution_count": 131,
   "metadata": {},
   "outputs": [
    {
     "name": "stdout",
     "output_type": "stream",
     "text": [
      "+---------------+---------------+-----------+-------------+--------------------+----------+---+-----------+------------+-------------------+--------------------+--------------------+--------------------+\n",
      "|         mobile|           home|amount_paid|customer_from|               email|first_name| id|is_customer|   last_name|    last_updated_ts| phone_numbers_array|   phone_numbers_map|phone_numbers_struct|\n",
      "+---------------+---------------+-----------+-------------+--------------------+----------+---+-----------+------------+-------------------+--------------------+--------------------+--------------------+\n",
      "|+1 234 567 8901|+1 234 567 8911|    1000.55|   2021-01-15|cvandenoord0@etsy...|    Corrie|  1|       true|Van den Oord|2021-02-10 04:15:00|[+1 234 567 8901,...|{mobile -> +1 234...|{+1 234 567 8901,...|\n",
      "|+1 234 567 8923| 1 234 567 8934|      900.0|   2021-02-14|nbrewitt1@dailyma...|  Nikolaus|  2|       true|     Brewitt|2021-02-18 06:33:00|[+1 234 567 8923,...|{mobile -> +1 234...|{+1 234 567 8923,...|\n",
      "|+1 714 512 9752|+1 714 512 6601|     850.55|   2021-01-21|openney2@vistapri...|    Orelie|  3|       true|      Penney|2021-03-15 18:16:55|[+1 714 512 9752,...|{mobile -> +1 714...|{+1 714 512 9752,...|\n",
      "|           NULL|           NULL|       NULL|         NULL|  amaddocks3@home.pl|     Ashby|  4|      false|    Maddocks|2021-04-10 20:45:30|                NULL|                NULL|        {NULL, NULL}|\n",
      "|+1 817 934 7142|           NULL|       NULL|         NULL|krome4@shutterfly...|      Kurt|  5|      false|        Rome|2021-04-02 03:55:18|   [+1 817 934 7142]|{mobile -> +1 817...|{+1 817 934 7142,...|\n",
      "+---------------+---------------+-----------+-------------+--------------------+----------+---+-----------+------------+-------------------+--------------------+--------------------+--------------------+\n",
      "\n"
     ]
    }
   ],
   "source": [
    "#struct\n",
    "schema_df.select('*', \"phone_numbers_struct.*\").show()"
   ]
  },
  {
   "cell_type": "code",
   "execution_count": 106,
   "metadata": {},
   "outputs": [
    {
     "name": "stdout",
     "output_type": "stream",
     "text": [
      "+---+---------------+---------------+\n",
      "| id|         mobile|           home|\n",
      "+---+---------------+---------------+\n",
      "|  1|+1 234 567 8901|+1 234 567 8911|\n",
      "|  2|+1 234 567 8923|+1 234 567 8934|\n",
      "|  3|+1 714 512 9752|+1 714 512 6601|\n",
      "|  4|           NULL|           NULL|\n",
      "|  5|+1 817 934 7142|           NULL|\n",
      "+---+---------------+---------------+\n",
      "\n"
     ]
    }
   ],
   "source": [
    "# array\n",
    "schema_df. \\\n",
    "    select('id', col('phone_numbers_array')[0].alias('mobile'), col('phone_numbers_array')[1].alias('home')). \\\n",
    "    show()"
   ]
  },
  {
   "cell_type": "code",
   "execution_count": 109,
   "metadata": {},
   "outputs": [
    {
     "name": "stdout",
     "output_type": "stream",
     "text": [
      "+---+---------------+---------------+\n",
      "| id|         mobile|           home|\n",
      "+---+---------------+---------------+\n",
      "|  1|+1 234 567 8901|+1 234 567 8911|\n",
      "|  2|+1 234 567 8923|+1 234 567 8934|\n",
      "|  3|+1 714 512 9752|+1 714 512 6601|\n",
      "|  4|           NULL|           NULL|\n",
      "|  5|+1 817 934 7142|           NULL|\n",
      "+---+---------------+---------------+\n",
      "\n"
     ]
    }
   ],
   "source": [
    "# map\n",
    "schema_df. \\\n",
    "    select('id', col('phone_numbers_map')['mobile'].alias('mobile'), col('phone_numbers_map')['home'].alias('home')). \\\n",
    "    show()"
   ]
  },
  {
   "cell_type": "code",
   "execution_count": 110,
   "metadata": {},
   "outputs": [
    {
     "name": "stdout",
     "output_type": "stream",
     "text": [
      "+---+---------------+---------------+\n",
      "| id|         mobile|           home|\n",
      "+---+---------------+---------------+\n",
      "|  1|+1 234 567 8901|+1 234 567 8911|\n",
      "|  2|+1 234 567 8923| 1 234 567 8934|\n",
      "|  3|+1 714 512 9752|+1 714 512 6601|\n",
      "|  4|           NULL|           NULL|\n",
      "|  5|+1 817 934 7142|           NULL|\n",
      "+---+---------------+---------------+\n",
      "\n"
     ]
    }
   ],
   "source": [
    "# struct\n",
    "schema_df. \\\n",
    "    select('id', col('phone_numbers_struct')['mobile'].alias('mobile'), col('phone_numbers_struct')['home'].alias('home')). \\\n",
    "    show()"
   ]
  }
 ],
 "metadata": {
  "kernelspec": {
   "display_name": "Python 3",
   "language": "python",
   "name": "python3"
  },
  "language_info": {
   "codemirror_mode": {
    "name": "ipython",
    "version": 3
   },
   "file_extension": ".py",
   "mimetype": "text/x-python",
   "name": "python",
   "nbconvert_exporter": "python",
   "pygments_lexer": "ipython3",
   "version": "3.10.11"
  }
 },
 "nbformat": 4,
 "nbformat_minor": 2
}
