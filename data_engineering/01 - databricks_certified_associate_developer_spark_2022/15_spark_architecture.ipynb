{
 "cells": [
  {
   "cell_type": "code",
   "execution_count": null,
   "metadata": {
    "application/vnd.databricks.v1+cell": {
     "cellMetadata": {},
     "inputWidgets": {},
     "nuid": "b53d3e5e-af50-48d3-a9cb-bdd7e3b6a83d",
     "showTitle": false,
     "title": ""
    }
   },
   "outputs": [],
   "source": [
    "# Databricks notebook source\n",
    "#from databricks.connect import DatabricksSession\n",
    "#from pyspark.sql.types import IntegerType, StringType, StructField, StructType\n",
    "#\n",
    "#spark = DatabricksSession.builder.profile(\"test\").getOrCreate()"
   ]
  },
  {
   "cell_type": "markdown",
   "metadata": {
    "application/vnd.databricks.v1+cell": {
     "cellMetadata": {},
     "inputWidgets": {},
     "nuid": "bb7d98d5-8d0f-4739-81b2-6c085849cfe3",
     "showTitle": false,
     "title": ""
    }
   },
   "source": [
    "There are different types of Cluster Managers when it comes to Spark Applications. You can review [this page](https://spark.apache.org/docs/latest/cluster-overview.html) for more detail.\n",
    "* Local (only one node for driver as well as executor)\n",
    "* Cluster\n",
    "    * YARN\n",
    "    * Mesos\n",
    "    * Kubernetes\n",
    "    * Stand Alone cluster (Databricks is based on Stand Alone)"
   ]
  },
  {
   "cell_type": "markdown",
   "metadata": {
    "application/vnd.databricks.v1+cell": {
     "cellMetadata": {},
     "inputWidgets": {},
     "nuid": "565ca250-6ddb-4d67-aede-790b5389c858",
     "showTitle": false,
     "title": ""
    }
   },
   "source": [
    "A single node compute in databricks only has the driver, which works as master and worker.\n",
    "- spawns one executor thread per logical core, -1 core for the driver"
   ]
  },
  {
   "cell_type": "code",
   "execution_count": null,
   "metadata": {
    "application/vnd.databricks.v1+cell": {
     "cellMetadata": {
      "byteLimit": 2048000,
      "rowLimit": 10000
     },
     "inputWidgets": {},
     "nuid": "4f829c66-5996-4de6-933f-9385f2f355bc",
     "showTitle": false,
     "title": ""
    }
   },
   "outputs": [
    {
     "data": {
      "text/html": [
       "<style scoped>\n",
       "  .table-result-container {\n",
       "    max-height: 300px;\n",
       "    overflow: auto;\n",
       "  }\n",
       "  table, th, td {\n",
       "    border: 1px solid black;\n",
       "    border-collapse: collapse;\n",
       "  }\n",
       "  th, td {\n",
       "    padding: 5px;\n",
       "  }\n",
       "  th {\n",
       "    text-align: left;\n",
       "  }\n",
       "</style><div class='table-result-container'><table class='table-result'><thead style='background-color: white'><tr><th>path</th><th>name</th><th>size</th><th>modificationTime</th></tr></thead><tbody><tr><td>dbfs:/databricks-datasets/asa/airlines/1987.csv</td><td>1987.csv</td><td>127162942</td><td>1459744248000</td></tr><tr><td>dbfs:/databricks-datasets/asa/airlines/1988.csv</td><td>1988.csv</td><td>501039472</td><td>1459744260000</td></tr><tr><td>dbfs:/databricks-datasets/asa/airlines/1989.csv</td><td>1989.csv</td><td>486518821</td><td>1459744335000</td></tr><tr><td>dbfs:/databricks-datasets/asa/airlines/1990.csv</td><td>1990.csv</td><td>509194687</td><td>1459744384000</td></tr><tr><td>dbfs:/databricks-datasets/asa/airlines/1991.csv</td><td>1991.csv</td><td>491210093</td><td>1459744438000</td></tr><tr><td>dbfs:/databricks-datasets/asa/airlines/1992.csv</td><td>1992.csv</td><td>492313731</td><td>1459744493000</td></tr><tr><td>dbfs:/databricks-datasets/asa/airlines/1993.csv</td><td>1993.csv</td><td>490753652</td><td>1459744545000</td></tr><tr><td>dbfs:/databricks-datasets/asa/airlines/1994.csv</td><td>1994.csv</td><td>501558665</td><td>1459744608000</td></tr><tr><td>dbfs:/databricks-datasets/asa/airlines/1995.csv</td><td>1995.csv</td><td>530751568</td><td>1459744663000</td></tr><tr><td>dbfs:/databricks-datasets/asa/airlines/1996.csv</td><td>1996.csv</td><td>533922363</td><td>1459744718000</td></tr><tr><td>dbfs:/databricks-datasets/asa/airlines/1997.csv</td><td>1997.csv</td><td>540347861</td><td>1459744776000</td></tr><tr><td>dbfs:/databricks-datasets/asa/airlines/1998.csv</td><td>1998.csv</td><td>538432875</td><td>1459744834000</td></tr><tr><td>dbfs:/databricks-datasets/asa/airlines/1999.csv</td><td>1999.csv</td><td>552926022</td><td>1459744896000</td></tr><tr><td>dbfs:/databricks-datasets/asa/airlines/2000.csv</td><td>2000.csv</td><td>570151613</td><td>1459744954000</td></tr><tr><td>dbfs:/databricks-datasets/asa/airlines/2001.csv</td><td>2001.csv</td><td>600411462</td><td>1459745016000</td></tr><tr><td>dbfs:/databricks-datasets/asa/airlines/2002.csv</td><td>2002.csv</td><td>530507013</td><td>1459745079000</td></tr><tr><td>dbfs:/databricks-datasets/asa/airlines/2003.csv</td><td>2003.csv</td><td>626745242</td><td>1459745141000</td></tr><tr><td>dbfs:/databricks-datasets/asa/airlines/2004.csv</td><td>2004.csv</td><td>669879113</td><td>1459745218000</td></tr><tr><td>dbfs:/databricks-datasets/asa/airlines/2005.csv</td><td>2005.csv</td><td>671027265</td><td>1459745287000</td></tr><tr><td>dbfs:/databricks-datasets/asa/airlines/2006.csv</td><td>2006.csv</td><td>672068096</td><td>1459745364000</td></tr><tr><td>dbfs:/databricks-datasets/asa/airlines/2007.csv</td><td>2007.csv</td><td>702878193</td><td>1459745438000</td></tr><tr><td>dbfs:/databricks-datasets/asa/airlines/2008.csv</td><td>2008.csv</td><td>689413344</td><td>1459745523000</td></tr></tbody></table></div>"
      ]
     },
     "metadata": {
      "application/vnd.databricks.v1+output": {
       "addedWidgets": {},
       "aggData": [],
       "aggError": "",
       "aggOverflow": false,
       "aggSchema": [],
       "aggSeriesLimitReached": false,
       "aggType": "",
       "arguments": {},
       "columnCustomDisplayInfos": {},
       "data": [
        [
         "dbfs:/databricks-datasets/asa/airlines/1987.csv",
         "1987.csv",
         127162942,
         1459744248000
        ],
        [
         "dbfs:/databricks-datasets/asa/airlines/1988.csv",
         "1988.csv",
         501039472,
         1459744260000
        ],
        [
         "dbfs:/databricks-datasets/asa/airlines/1989.csv",
         "1989.csv",
         486518821,
         1459744335000
        ],
        [
         "dbfs:/databricks-datasets/asa/airlines/1990.csv",
         "1990.csv",
         509194687,
         1459744384000
        ],
        [
         "dbfs:/databricks-datasets/asa/airlines/1991.csv",
         "1991.csv",
         491210093,
         1459744438000
        ],
        [
         "dbfs:/databricks-datasets/asa/airlines/1992.csv",
         "1992.csv",
         492313731,
         1459744493000
        ],
        [
         "dbfs:/databricks-datasets/asa/airlines/1993.csv",
         "1993.csv",
         490753652,
         1459744545000
        ],
        [
         "dbfs:/databricks-datasets/asa/airlines/1994.csv",
         "1994.csv",
         501558665,
         1459744608000
        ],
        [
         "dbfs:/databricks-datasets/asa/airlines/1995.csv",
         "1995.csv",
         530751568,
         1459744663000
        ],
        [
         "dbfs:/databricks-datasets/asa/airlines/1996.csv",
         "1996.csv",
         533922363,
         1459744718000
        ],
        [
         "dbfs:/databricks-datasets/asa/airlines/1997.csv",
         "1997.csv",
         540347861,
         1459744776000
        ],
        [
         "dbfs:/databricks-datasets/asa/airlines/1998.csv",
         "1998.csv",
         538432875,
         1459744834000
        ],
        [
         "dbfs:/databricks-datasets/asa/airlines/1999.csv",
         "1999.csv",
         552926022,
         1459744896000
        ],
        [
         "dbfs:/databricks-datasets/asa/airlines/2000.csv",
         "2000.csv",
         570151613,
         1459744954000
        ],
        [
         "dbfs:/databricks-datasets/asa/airlines/2001.csv",
         "2001.csv",
         600411462,
         1459745016000
        ],
        [
         "dbfs:/databricks-datasets/asa/airlines/2002.csv",
         "2002.csv",
         530507013,
         1459745079000
        ],
        [
         "dbfs:/databricks-datasets/asa/airlines/2003.csv",
         "2003.csv",
         626745242,
         1459745141000
        ],
        [
         "dbfs:/databricks-datasets/asa/airlines/2004.csv",
         "2004.csv",
         669879113,
         1459745218000
        ],
        [
         "dbfs:/databricks-datasets/asa/airlines/2005.csv",
         "2005.csv",
         671027265,
         1459745287000
        ],
        [
         "dbfs:/databricks-datasets/asa/airlines/2006.csv",
         "2006.csv",
         672068096,
         1459745364000
        ],
        [
         "dbfs:/databricks-datasets/asa/airlines/2007.csv",
         "2007.csv",
         702878193,
         1459745438000
        ],
        [
         "dbfs:/databricks-datasets/asa/airlines/2008.csv",
         "2008.csv",
         689413344,
         1459745523000
        ]
       ],
       "datasetInfos": [],
       "dbfsResultPath": null,
       "isJsonSchema": true,
       "metadata": {
        "isDbfsCommandResult": false
       },
       "overflow": false,
       "plotOptions": {
        "customPlotOptions": {},
        "displayType": "table",
        "pivotAggregation": null,
        "pivotColumns": null,
        "xColumns": null,
        "yColumns": null
       },
       "removedWidgets": [],
       "schema": [
        {
         "metadata": "{}",
         "name": "path",
         "type": "\"string\""
        },
        {
         "metadata": "{}",
         "name": "name",
         "type": "\"string\""
        },
        {
         "metadata": "{}",
         "name": "size",
         "type": "\"long\""
        },
        {
         "metadata": "{}",
         "name": "modificationTime",
         "type": "\"long\""
        }
       ],
       "type": "table"
      }
     },
     "output_type": "display_data"
    }
   ],
   "source": [
    "# /airlines/ has multiple csvs\n",
    "%fs ls 'dbfs:/databricks-datasets/asa/airlines'"
   ]
  },
  {
   "cell_type": "code",
   "execution_count": null,
   "metadata": {
    "application/vnd.databricks.v1+cell": {
     "cellMetadata": {
      "byteLimit": 2048000,
      "rowLimit": 10000
     },
     "inputWidgets": {},
     "nuid": "fb9e7d09-413f-466a-bcd1-b507cb1e7a5e",
     "showTitle": false,
     "title": ""
    }
   },
   "outputs": [],
   "source": [
    "#  spark.read.csv can read multiple csvs into one dataframe if they have the same schema\n",
    "df = spark.read.csv(\"dbfs:/databricks-datasets/asa/airlines\", header=True)"
   ]
  },
  {
   "cell_type": "code",
   "execution_count": null,
   "metadata": {
    "application/vnd.databricks.v1+cell": {
     "cellMetadata": {
      "byteLimit": 2048000,
      "rowLimit": 10000
     },
     "inputWidgets": {},
     "nuid": "4401d8fe-facf-4ad1-aea4-7ad2d980b292",
     "showTitle": false,
     "title": ""
    }
   },
   "outputs": [
    {
     "name": "stdout",
     "output_type": "stream",
     "text": [
      "93\n"
     ]
    }
   ],
   "source": [
    "# get number of partitions of df, partitions is based on number of paralelism and files in folder\n",
    "print(df.rdd.getNumPartitions())"
   ]
  },
  {
   "cell_type": "code",
   "execution_count": null,
   "metadata": {
    "application/vnd.databricks.v1+cell": {
     "cellMetadata": {
      "byteLimit": 2048000,
      "rowLimit": 10000
     },
     "inputWidgets": {},
     "nuid": "098339d6-e7fa-4f29-b9b1-fb3c5511aea1",
     "showTitle": false,
     "title": ""
    }
   },
   "outputs": [
    {
     "name": "stdout",
     "output_type": "stream",
     "text": [
      "1311826\n"
     ]
    }
   ],
   "source": [
    "# get number of rows in specific csv in folder\n",
    "print(spark.read.csv('dbfs:/databricks-datasets/asa/airlines/1987.csv', header=True).count())"
   ]
  },
  {
   "cell_type": "code",
   "execution_count": null,
   "metadata": {
    "application/vnd.databricks.v1+cell": {
     "cellMetadata": {
      "byteLimit": 2048000,
      "rowLimit": 10000
     },
     "inputWidgets": {},
     "nuid": "bec2743b-83b4-490a-be6d-1c035294fb44",
     "showTitle": false,
     "title": ""
    }
   },
   "outputs": [
    {
     "name": "stdout",
     "output_type": "stream",
     "text": [
      "123534969\n"
     ]
    }
   ],
   "source": [
    "# .count() le o numero de linhas de um dataframe\n",
    "print(df.count())"
   ]
  },
  {
   "cell_type": "code",
   "execution_count": null,
   "metadata": {
    "application/vnd.databricks.v1+cell": {
     "cellMetadata": {
      "byteLimit": 2048000,
      "rowLimit": 10000
     },
     "inputWidgets": {},
     "nuid": "479ab1ea-c6c4-4ee0-b12b-3e37e5ec2f1d",
     "showTitle": false,
     "title": ""
    }
   },
   "outputs": [
    {
     "name": "stdout",
     "output_type": "stream",
     "text": [
      "29\n"
     ]
    }
   ],
   "source": [
    "# .columns reads amount of columns in dataframe\n",
    "print(len(df.columns))"
   ]
  },
  {
   "cell_type": "markdown",
   "metadata": {
    "application/vnd.databricks.v1+cell": {
     "cellMetadata": {},
     "inputWidgets": {},
     "nuid": "edc6c0c0-5830-4a73-b702-6d5d7328a409",
     "showTitle": false,
     "title": ""
    }
   },
   "source": [
    "\n",
    "* Some operations in spark can lead to a data **shuffle** between partitions. This is typically done to to ensure that records with the same key end up on the same partition. These are: repartition, join, cogroup, and any of the *By or *ByKey transformations. **Adaptive Query Execution** (enabled with *spark.conf.set('spark.sql.adaptive.enabled', True)*) allows post shuffle partitions to be coalesced based on the map output statistics, leading to a more optimized number of partitions in each stage.\n",
    "* Typically row-oriented formats (csv) are more efficient for queries that either must access most of the columns, or only read a fraction of the rows. Column-oriented formats (parquet), on the other hand, are usually more efficient for queries that need to read most of the rows, but only have to access a fraction of the columns. "
   ]
  },
  {
   "cell_type": "code",
   "execution_count": null,
   "metadata": {
    "application/vnd.databricks.v1+cell": {
     "cellMetadata": {
      "byteLimit": 2048000,
      "rowLimit": 10000
     },
     "inputWidgets": {},
     "nuid": "7145c131-ce35-4fad-a43c-c1fea03b03aa",
     "showTitle": false,
     "title": ""
    }
   },
   "outputs": [],
   "source": [
    "# get a dataframe by reading the airlines folder with multiple csvs, groupby() year, month and daymonth, get count of each group and write to a parquet file\n",
    "import getpass\n",
    "username = getpass.getuser()\n",
    "\n",
    "dbutils.fs.rm(f'/user/{username}/airlines', recurse=True)\n",
    "\n",
    "spark. \\\n",
    "    read. \\\n",
    "    csv('dbfs:/databricks-datasets/asa/airlines', header=True). \\\n",
    "    groupBy('Year', 'Month', 'DayOfMonth'). \\\n",
    "    count(). \\\n",
    "    write. \\\n",
    "    parquet(f'/user/{username}/airlines', mode='overwrite')"
   ]
  },
  {
   "cell_type": "code",
   "execution_count": null,
   "metadata": {
    "application/vnd.databricks.v1+cell": {
     "cellMetadata": {
      "byteLimit": 2048000,
      "rowLimit": 10000
     },
     "inputWidgets": {},
     "nuid": "cfb54304-c424-4c9a-9d7a-7988b9f5a276",
     "showTitle": false,
     "title": ""
    }
   },
   "outputs": [
    {
     "data": {
      "text/html": [
       "<style scoped>\n",
       "  .table-result-container {\n",
       "    max-height: 300px;\n",
       "    overflow: auto;\n",
       "  }\n",
       "  table, th, td {\n",
       "    border: 1px solid black;\n",
       "    border-collapse: collapse;\n",
       "  }\n",
       "  th, td {\n",
       "    padding: 5px;\n",
       "  }\n",
       "  th {\n",
       "    text-align: left;\n",
       "  }\n",
       "</style><div class='table-result-container'><table class='table-result'><thead style='background-color: white'><tr><th>path</th><th>name</th><th>size</th><th>modificationTime</th></tr></thead><tbody><tr><td>dbfs:/user/root/airlines/_SUCCESS</td><td>_SUCCESS</td><td>0</td><td>1709233078000</td></tr><tr><td>dbfs:/user/root/airlines/_committed_1466639245947400032</td><td>_committed_1466639245947400032</td><td>124</td><td>1709233078000</td></tr><tr><td>dbfs:/user/root/airlines/_started_1466639245947400032</td><td>_started_1466639245947400032</td><td>0</td><td>1709233078000</td></tr><tr><td>dbfs:/user/root/airlines/part-00000-tid-1466639245947400032-2938f983-386b-4777-95d2-7db79bd0e129-122-1.c000.snappy.parquet</td><td>part-00000-tid-1466639245947400032-2938f983-386b-4777-95d2-7db79bd0e129-122-1.c000.snappy.parquet</td><td>41996</td><td>1709233078000</td></tr></tbody></table></div>"
      ]
     },
     "metadata": {
      "application/vnd.databricks.v1+output": {
       "addedWidgets": {},
       "aggData": [],
       "aggError": "",
       "aggOverflow": false,
       "aggSchema": [],
       "aggSeriesLimitReached": false,
       "aggType": "",
       "arguments": {},
       "columnCustomDisplayInfos": {},
       "data": [
        [
         "dbfs:/user/root/airlines/_SUCCESS",
         "_SUCCESS",
         0,
         1709233078000
        ],
        [
         "dbfs:/user/root/airlines/_committed_1466639245947400032",
         "_committed_1466639245947400032",
         124,
         1709233078000
        ],
        [
         "dbfs:/user/root/airlines/_started_1466639245947400032",
         "_started_1466639245947400032",
         0,
         1709233078000
        ],
        [
         "dbfs:/user/root/airlines/part-00000-tid-1466639245947400032-2938f983-386b-4777-95d2-7db79bd0e129-122-1.c000.snappy.parquet",
         "part-00000-tid-1466639245947400032-2938f983-386b-4777-95d2-7db79bd0e129-122-1.c000.snappy.parquet",
         41996,
         1709233078000
        ]
       ],
       "datasetInfos": [],
       "dbfsResultPath": null,
       "isJsonSchema": true,
       "metadata": {
        "isDbfsCommandResult": false
       },
       "overflow": false,
       "plotOptions": {
        "customPlotOptions": {},
        "displayType": "table",
        "pivotAggregation": null,
        "pivotColumns": null,
        "xColumns": null,
        "yColumns": null
       },
       "removedWidgets": [],
       "schema": [
        {
         "metadata": "{}",
         "name": "path",
         "type": "\"string\""
        },
        {
         "metadata": "{}",
         "name": "name",
         "type": "\"string\""
        },
        {
         "metadata": "{}",
         "name": "size",
         "type": "\"long\""
        },
        {
         "metadata": "{}",
         "name": "modificationTime",
         "type": "\"long\""
        }
       ],
       "type": "table"
      }
     },
     "output_type": "display_data"
    }
   ],
   "source": [
    "%fs ls '/user/root/airlines'"
   ]
  },
  {
   "cell_type": "code",
   "execution_count": null,
   "metadata": {
    "application/vnd.databricks.v1+cell": {
     "cellMetadata": {
      "byteLimit": 2048000,
      "rowLimit": 10000
     },
     "inputWidgets": {},
     "nuid": "1a95543a-5434-4c58-b637-9473791f6371",
     "showTitle": false,
     "title": ""
    }
   },
   "outputs": [],
   "source": [
    "df_parquet = spark.read.parquet(f'/user/{username}/airlines')"
   ]
  },
  {
   "cell_type": "code",
   "execution_count": null,
   "metadata": {
    "application/vnd.databricks.v1+cell": {
     "cellMetadata": {
      "byteLimit": 2048000,
      "rowLimit": 10000
     },
     "inputWidgets": {},
     "nuid": "e0b9c088-30bf-4c9d-8307-bfb6a87dada8",
     "showTitle": false,
     "title": ""
    }
   },
   "outputs": [
    {
     "data": {
      "text/plain": [
       "['dbfs:/user/root/airlines/part-00000-tid-1466639245947400032-2938f983-386b-4777-95d2-7db79bd0e129-122-1.c000.snappy.parquet']"
      ]
     },
     "execution_count": 18,
     "metadata": {},
     "output_type": "execute_result"
    }
   ],
   "source": [
    "df_parquet.inputFiles()"
   ]
  },
  {
   "cell_type": "code",
   "execution_count": null,
   "metadata": {
    "application/vnd.databricks.v1+cell": {
     "cellMetadata": {
      "byteLimit": 2048000,
      "rowLimit": 10000
     },
     "inputWidgets": {},
     "nuid": "5e1b3831-ed2c-4c6a-8d32-843a21d4d095",
     "showTitle": false,
     "title": ""
    }
   },
   "outputs": [
    {
     "name": "stdout",
     "output_type": "stream",
     "text": [
      "+----+-----+----------+-----+\n",
      "|Year|Month|DayOfMonth|count|\n",
      "+----+-----+----------+-----+\n",
      "|2007|    1|         6|17783|\n",
      "|2007|    6|        10|20674|\n",
      "|2007|    8|        28|20975|\n",
      "|2007|   12|        19|21026|\n",
      "|2007|    3|         2|21305|\n",
      "|2007|    4|        30|21032|\n",
      "|2007|    1|         1|19563|\n",
      "|2007|   10|        22|21126|\n",
      "|2007|    7|        31|21589|\n",
      "|2007|    8|        13|21682|\n",
      "|2007|   10|         5|21213|\n",
      "|2007|   10|         9|20556|\n",
      "|2007|    3|        30|21340|\n",
      "|2007|    1|        21|19533|\n",
      "|2007|    5|         4|21148|\n",
      "|2007|    3|         8|21305|\n",
      "|2007|    3|        25|20181|\n",
      "|2007|    3|        31|18316|\n",
      "|2007|    7|        10|21597|\n",
      "|2007|   11|        25|20933|\n",
      "+----+-----+----------+-----+\n",
      "only showing top 20 rows\n",
      "\n"
     ]
    }
   ],
   "source": [
    "df_parquet.show()"
   ]
  },
  {
   "cell_type": "markdown",
   "metadata": {
    "application/vnd.databricks.v1+cell": {
     "cellMetadata": {},
     "inputWidgets": {},
     "nuid": "3ca56c41-5a9e-406f-871a-a060afca8d41",
     "showTitle": false,
     "title": ""
    }
   },
   "source": [
    "* Worker [node] -> Executor(s) -> Slot(s) [logical cores]\n",
    "* Job -> Stage(s) [paralelizable if no sequential dependency] -> Task(s) [paralelizable]\n",
    "* Task -> partition + transformation\n",
    "\n",
    "As tasks are completed, new slots in the executors become available, and the standby tasks are assigned to these available slots.\n",
    "Running the previous code in single node compute showcases the idea of waiting tasks."
   ]
  },
  {
   "cell_type": "code",
   "execution_count": null,
   "metadata": {
    "application/vnd.databricks.v1+cell": {
     "cellMetadata": {},
     "inputWidgets": {},
     "nuid": "c4bb6604-8570-4eb0-94aa-c7cdc719a582",
     "showTitle": false,
     "title": ""
    }
   },
   "outputs": [
    {
     "data": {
      "text/plain": [
       "'local[*, 4]'"
      ]
     },
     "execution_count": 23,
     "metadata": {},
     "output_type": "execute_result"
    }
   ],
   "source": [
    "spark.conf.get('spark.master')"
   ]
  },
  {
   "cell_type": "code",
   "execution_count": null,
   "metadata": {
    "application/vnd.databricks.v1+cell": {
     "cellMetadata": {},
     "inputWidgets": {},
     "nuid": "4853d8ee-c6f1-4b02-841d-5d12bb3ae472",
     "showTitle": false,
     "title": ""
    }
   },
   "outputs": [
    {
     "data": {
      "text/plain": [
       "'true'"
      ]
     },
     "execution_count": 24,
     "metadata": {},
     "output_type": "execute_result"
    }
   ],
   "source": [
    "spark.conf.get('spark.sql.adaptive.enabled')"
   ]
  },
  {
   "cell_type": "code",
   "execution_count": null,
   "metadata": {
    "application/vnd.databricks.v1+cell": {
     "cellMetadata": {},
     "inputWidgets": {},
     "nuid": "5ec2c1d0-7f44-49dc-a163-4dfe8e0c81a9",
     "showTitle": false,
     "title": ""
    }
   },
   "outputs": [
    {
     "data": {
      "text/plain": [
       "'200'"
      ]
     },
     "execution_count": 25,
     "metadata": {},
     "output_type": "execute_result"
    }
   ],
   "source": [
    "# ineffective if adaptive query execution is enabled\n",
    "spark.conf.get('spark.sql.shuffle.partitions')"
   ]
  }
 ],
 "metadata": {
  "application/vnd.databricks.v1+notebook": {
   "dashboards": [],
   "language": "python",
   "notebookMetadata": {
    "mostRecentlyExecutedCommandWithImplicitDF": {
     "commandId": 573522372825744,
     "dataframes": [
      "_sqldf"
     ]
    },
    "pythonIndentUnit": 4
   },
   "notebookName": "15_spark_architecture",
   "widgets": {}
  },
  "kernelspec": {
   "display_name": "Python 3",
   "language": "python",
   "name": "python3"
  },
  "language_info": {
   "codemirror_mode": {
    "name": "ipython",
    "version": 3
   },
   "file_extension": ".py",
   "mimetype": "text/x-python",
   "name": "python",
   "nbconvert_exporter": "python",
   "pygments_lexer": "ipython3",
   "version": "undefined.undefined.undefined"
  }
 },
 "nbformat": 4,
 "nbformat_minor": 0
}
