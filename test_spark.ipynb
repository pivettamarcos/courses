{
 "cells": [
  {
   "cell_type": "code",
   "execution_count": 1,
   "id": "d6f6acf7-f08c-4d70-867d-3c60ae5e7c8e",
   "metadata": {},
   "outputs": [],
   "source": [
    "from pyspark import SparkConf, SparkContext\n",
    "\n",
    "conf = SparkConf().setAppName('test').setMaster('spark://spark-master:7077')\n",
    "sc = SparkContext(conf=conf)"
   ]
  },
  {
   "cell_type": "code",
   "execution_count": 4,
   "id": "b8ca9930-0aca-4549-88b9-8f891167cf0e",
   "metadata": {},
   "outputs": [],
   "source": [
    "lines = sc.textFile(\"hdfs://namenode:9000/data/01/test.csv\")"
   ]
  },
  {
   "cell_type": "code",
   "execution_count": 5,
   "id": "3b7ad87a-f835-4866-aa9a-93af79831214",
   "metadata": {},
   "outputs": [
    {
     "data": {
      "text/plain": [
       "hdfs://namenode:9000/data/01/test.csv MapPartitionsRDD[3] at textFile at NativeMethodAccessorImpl.java:0"
      ]
     },
     "execution_count": 5,
     "metadata": {},
     "output_type": "execute_result"
    }
   ],
   "source": [
    "lines"
   ]
  },
  {
   "cell_type": "code",
   "execution_count": null,
   "id": "f8c47d77-2eac-41dd-8b9d-7f5472bfff6e",
   "metadata": {},
   "outputs": [],
   "source": []
  }
 ],
 "metadata": {
  "kernelspec": {
   "display_name": "Python 3 (ipykernel)",
   "language": "python",
   "name": "python3"
  },
  "language_info": {
   "codemirror_mode": {
    "name": "ipython",
    "version": 3
   },
   "file_extension": ".py",
   "mimetype": "text/x-python",
   "name": "python",
   "nbconvert_exporter": "python",
   "pygments_lexer": "ipython3",
   "version": "3.11.6"
  }
 },
 "nbformat": 4,
 "nbformat_minor": 5
}
